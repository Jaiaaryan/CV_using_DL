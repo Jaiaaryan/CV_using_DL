{
 "cells": [
  {
   "cell_type": "code",
   "execution_count": 1,
   "metadata": {},
   "outputs": [],
   "source": [
    "#!pip3 install torch torchvision --extra-index-url https://download.pytorch.org/whl/cu122"
   ]
  },
  {
   "cell_type": "code",
   "execution_count": 3,
   "metadata": {},
   "outputs": [],
   "source": [
    "# !pip install torchviz"
   ]
  },
  {
   "cell_type": "markdown",
   "metadata": {},
   "source": [
    "Lets consider \n",
    "\n",
    "z = x * y + y^2\n",
    "\n",
    "The partial derivative of z \n",
    "\n",
    "w.r.t x dz/dx = y\n",
    "\n",
    "w.r.t y dz/dy = x + 2y\n",
    "\n",
    "given x = 2 and y = 3\n",
    "\n",
    "dz/dx = 3\n",
    "dz/dy = 8"
   ]
  },
  {
   "cell_type": "code",
   "execution_count": 6,
   "metadata": {},
   "outputs": [],
   "source": [
    "import torch"
   ]
  },
  {
   "cell_type": "code",
   "execution_count": 7,
   "metadata": {},
   "outputs": [
    {
     "name": "stdout",
     "output_type": "stream",
     "text": [
      "tensor([20., 35., 54.], grad_fn=<AddBackward0>)\n",
      "None None\n",
      "tensor([4., 5., 6.]) tensor([ 9., 12., 15.]) None\n",
      "tensor([20., 35., 54.])\n"
     ]
    }
   ],
   "source": [
    "\n",
    "\n",
    "x = torch.tensor([1., 2., 3.], requires_grad=True)\n",
    "y = torch.tensor([4., 5., 6.], requires_grad=True)\n",
    "\n",
    "z = x * y +  y**2 \n",
    "print(z)\n",
    "\n",
    "print(x.grad, y.grad)\n",
    "\n",
    "# backward pass doesn't return anything!\n",
    "z.sum().backward()\n",
    "\n",
    "print(x.grad, y.grad, z.retain_grad())\n",
    "print(z.detach())"
   ]
  },
  {
   "cell_type": "code",
   "execution_count": null,
   "metadata": {},
   "outputs": [],
   "source": []
  }
 ],
 "metadata": {
  "kernelspec": {
   "display_name": ".venv",
   "language": "python",
   "name": "python3"
  },
  "language_info": {
   "codemirror_mode": {
    "name": "ipython",
    "version": 3
   },
   "file_extension": ".py",
   "mimetype": "text/x-python",
   "name": "python",
   "nbconvert_exporter": "python",
   "pygments_lexer": "ipython3",
   "version": "3.12.4"
  }
 },
 "nbformat": 4,
 "nbformat_minor": 2
}
